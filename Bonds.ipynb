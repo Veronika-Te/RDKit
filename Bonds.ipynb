{
  "nbformat": 4,
  "nbformat_minor": 0,
  "metadata": {
    "colab": {
      "provenance": []
    },
    "kernelspec": {
      "name": "python3",
      "display_name": "Python 3"
    },
    "language_info": {
      "name": "python"
    }
  },
  "cells": [
    {
      "cell_type": "code",
      "source": [
        "!pip install rdkit"
      ],
      "metadata": {
        "id": "O9fii1LqVulD"
      },
      "execution_count": null,
      "outputs": []
    },
    {
      "cell_type": "code",
      "execution_count": null,
      "metadata": {
        "colab": {
          "base_uri": "https://localhost:8080/"
        },
        "id": "_nZJa5yaVodK",
        "outputId": "c9fb8681-23ee-41cb-ac59-8f576f0a0877"
      },
      "outputs": [
        {
          "output_type": "stream",
          "name": "stdout",
          "text": [
            "<rdkit.Chem._GetBondsIterator object at 0x79d4fb263770>\n",
            "Index: 0, Type: SINGLE\n",
            "Index: 1, Type: DOUBLE\n",
            "Index: 2, Type: SINGLE\n",
            "Index: 3, Type: SINGLE\n"
          ]
        }
      ],
      "source": [
        "from rdkit import Chem\n",
        "mol=Chem.MolFromSmiles('CN=CNO')\n",
        "#Accessing all bonds\n",
        "bonds=mol.GetBonds()\n",
        "print(bonds)\n",
        "for bond in bonds:\n",
        "  print(f\"Index: {bond.GetIdx() }, Type: {bond.GetBondType()}\")"
      ]
    },
    {
      "cell_type": "code",
      "source": [
        "#Accessing a specific bond\n",
        "bond_1=mol.GetBondWithIdx(0)\n",
        "print(f\"Index: {bond_1.GetIdx() }, Type: {bond_1.GetBondType()}\")"
      ],
      "metadata": {
        "colab": {
          "base_uri": "https://localhost:8080/"
        },
        "id": "FeLQQre7WL6J",
        "outputId": "bce3bb78-a589-4a7a-b04d-c6301c1fe9c5"
      },
      "execution_count": null,
      "outputs": [
        {
          "output_type": "stream",
          "name": "stdout",
          "text": [
            "Index: 0, Type: SINGLE\n"
          ]
        }
      ]
    },
    {
      "cell_type": "code",
      "source": [
        "#Bond methods\n",
        "bond_1=mol.GetBondWithIdx(1)\n",
        "bond_type=bond_1.GetBondType()\n",
        "print(bond_type) #DOUBLE, not string->BondType object\n",
        "#print(bond_1.GetBondTypeAsDouble())\n",
        "print(type(bond_type)) #<class 'rdkit.Chem.rdchem.BondType'>\n",
        "\n",
        "#check type\n",
        "if(bond_type==Chem.rdchem.BondType.DOUBLE):\n",
        "  print(\"Double bond\")\n",
        "else:\n",
        "  print(\"Single bond\")"
      ],
      "metadata": {
        "colab": {
          "base_uri": "https://localhost:8080/"
        },
        "id": "NvNKlJsKXgk6",
        "outputId": "ff105b40-71fc-4207-fb69-03efbb371d22"
      },
      "execution_count": null,
      "outputs": [
        {
          "output_type": "stream",
          "name": "stdout",
          "text": [
            "DOUBLE\n",
            "<class 'rdkit.Chem.rdchem.BondType'>\n",
            "Double bond\n"
          ]
        }
      ]
    },
    {
      "cell_type": "code",
      "source": [
        "#check bond type with number\n",
        "bond_type=bond_1.GetBondTypeAsDouble()\n",
        "bond_type_num=bond_1.GetBondTypeAsDouble()\n",
        "print(bond_1.GetBondTypeAsDouble()) #float , 2.0\n",
        "print(bond_type_num==2)\n"
      ],
      "metadata": {
        "colab": {
          "base_uri": "https://localhost:8080/"
        },
        "id": "QoXAyqu9Zd90",
        "outputId": "398addf8-6810-4a51-edd8-f144f33f89a1"
      },
      "execution_count": null,
      "outputs": [
        {
          "output_type": "stream",
          "name": "stdout",
          "text": [
            "2.0\n",
            "True\n"
          ]
        }
      ]
    },
    {
      "cell_type": "code",
      "source": [
        "#Getting atoms of the bonds\n",
        "atom_1=bond_1.GetBeginAtom()\n",
        "atom_2=bond_1.GetEndAtom()\n",
        "print(atom_1)\n",
        "print(atom_2)\n",
        "#Getting by index\n",
        "atom_1_idx=bond_1.GetBeginAtomIdx()\n",
        "atom_2_idx=bond_1.GetEndAtomIdx()\n",
        "print(atom_1_idx)\n",
        "print(atom_2_idx)"
      ],
      "metadata": {
        "colab": {
          "base_uri": "https://localhost:8080/"
        },
        "id": "zkqIaEYJaOKd",
        "outputId": "2d8ebc6f-540b-4111-c7d5-301febd7bff9"
      },
      "execution_count": null,
      "outputs": [
        {
          "output_type": "stream",
          "name": "stdout",
          "text": [
            "<rdkit.Chem.rdchem.Atom object at 0x79d4fabb34c0>\n",
            "<rdkit.Chem.rdchem.Atom object at 0x79d4fabb3ca0>\n",
            "1\n",
            "2\n"
          ]
        }
      ]
    },
    {
      "cell_type": "code",
      "source": [
        "from rdkit.Chem import Draw\n",
        "#Setting\n",
        "bond_2=mol.GetBondWithIdx(2)\n",
        "bond_2.SetBondType(Chem.BondType.DOUBLE)\n",
        "Draw.MolToImage(mol)\n"
      ],
      "metadata": {
        "colab": {
          "base_uri": "https://localhost:8080/",
          "height": 338
        },
        "id": "6xZ3p1kuavh3",
        "outputId": "88399b1b-351a-4fe9-ec00-ffef7241ca0f"
      },
      "execution_count": null,
      "outputs": [
        {
          "output_type": "execute_result",
          "data": {
            "text/plain": [
              "<PIL.PngImagePlugin.PngImageFile image mode=RGB size=300x300>"
            ],
            "image/png": "[encoded data removed]",
            "image/jpeg": "[encoded data removed]"
          },
          "metadata": {},
          "execution_count": 24
        }
      ]
    },
    {
      "cell_type": "code",
      "source": [
        "#User custom properties\n",
        "bond_1.SetProp('Prop', 'Val')\n",
        "bond_1.GetProp('Prop')"
      ],
      "metadata": {
        "colab": {
          "base_uri": "https://localhost:8080/",
          "height": 56
        },
        "id": "-0w-Cy4XbRST",
        "outputId": "69d28c33-80ef-4c35-c84e-56bdc2ac075d"
      },
      "execution_count": null,
      "outputs": [
        {
          "output_type": "execute_result",
          "data": {
            "text/plain": [
              "'Val'"
            ],
            "application/vnd.google.colaboratory.intrinsic+json": {
              "type": "string"
            }
          },
          "metadata": {},
          "execution_count": 27
        }
      ]
    }
  ]
}