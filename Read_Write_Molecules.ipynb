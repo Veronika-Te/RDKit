{
  "nbformat": 4,
  "nbformat_minor": 0,
  "metadata": {
    "colab": {
      "provenance": []
    },
    "kernelspec": {
      "name": "python3",
      "display_name": "Python 3"
    },
    "language_info": {
      "name": "python"
    }
  },
  "cells": [
    {
      "cell_type": "code",
      "execution_count": null,
      "metadata": {
        "id": "QuPf2jYlIFkr"
      },
      "outputs": [],
      "source": [
        "!pip install rdkit"
      ]
    },
    {
      "cell_type": "code",
      "source": [
        "import os\n",
        "\n",
        "from rdkit import Chem\n",
        "from rdkit.Chem import AllChem\n",
        "from rdkit.Chem import Draw\n",
        "import pandas as pd\n",
        "\n",
        "mol=Chem.MolFromSmiles('CNC')\n",
        "Draw.MolToImage(mol)"
      ],
      "metadata": {
        "colab": {
          "base_uri": "https://localhost:8080/",
          "height": 317
        },
        "id": "6WWXw9n6IQgb",
        "outputId": "c842f58f-3f6a-47e8-ebbe-62b827fb7be8"
      },
      "execution_count": 63,
      "outputs": [
        {
          "output_type": "execute_result",
          "data": {
            "text/plain": [
              "<PIL.PngImagePlugin.PngImageFile image mode=RGB size=300x300>"
            ],
            "image/png": "[encoded data removed]",
            "image/jpeg": "[encoded data removed]"
          },
          "metadata": {},
          "execution_count": 63
        }
      ]
    },
    {
      "cell_type": "code",
      "source": [
        "from google.colab import drive\n",
        "drive.mount('/content/drive')\n"
      ],
      "metadata": {
        "colab": {
          "base_uri": "https://localhost:8080/"
        },
        "id": "tnixG-r49YEH",
        "outputId": "d1d06685-858d-4c9d-d685-e913492cc245"
      },
      "execution_count": 48,
      "outputs": [
        {
          "output_type": "stream",
          "name": "stdout",
          "text": [
            "Drive already mounted at /content/drive; to attempt to forcibly remount, call drive.mount(\"/content/drive\", force_remount=True).\n"
          ]
        }
      ]
    },
    {
      "cell_type": "code",
      "source": [
        "!ls \"/content/drive/My Drive/Datasets_MolBio\"\n",
        "path_sdf='/content/drive/My Drive/Datasets_MolBio/sdf_dataset.sdf'\n",
        "path_csv='/content/drive/My Drive/Datasets_MolBio/smi_dataset.csv'\n",
        "path_smi='/content/drive/My Drive/Datasets_MolBio/smi_dataset.smi'\n"
      ],
      "metadata": {
        "colab": {
          "base_uri": "https://localhost:8080/"
        },
        "id": "q5hqS6Wn9lmD",
        "outputId": "7261ddca-a9aa-4147-bd5a-7e81569a7c35"
      },
      "execution_count": 83,
      "outputs": [
        {
          "output_type": "stream",
          "name": "stdout",
          "text": [
            "sdf_dataset.sdf  smi_dataset.csv  smi_dataset.smi\n"
          ]
        }
      ]
    },
    {
      "cell_type": "code",
      "source": [
        "#Sanitizing\n",
        "def sanitize_mol(mol):\n",
        "    \"\"\"Try to sanitize a molecule, return None if invalid.\"\"\"\n",
        "    if mol is None:\n",
        "        return None\n",
        "    try:\n",
        "        AllChem.SanitizeMol(mol)\n",
        "        return mol\n",
        "    except:\n",
        "        return None\n",
        "\n",
        "if os.path.exists(path_sdf):\n",
        "    s_mols = [sanitize_mol(mol) for mol in Chem.SDMolSupplier(path_sdf, sanitize=False)]\n",
        "    s_mols = [mol for mol in s_mols if mol is not None]  # keep only valid\n",
        "    print(f\"SDF: Loaded {len(s_mols)} valid molecules\")\n",
        "else:\n",
        "    print(f\"SDF file not found: {path_sdf}\")"
      ],
      "metadata": {
        "colab": {
          "base_uri": "https://localhost:8080/"
        },
        "id": "eUzULRkaNHb5",
        "outputId": "e4d162ec-c2b9-4d27-b09e-55462b535bef"
      },
      "execution_count": 80,
      "outputs": [
        {
          "output_type": "stream",
          "name": "stdout",
          "text": [
            "SDF: Loaded 4 valid molecules\n"
          ]
        },
        {
          "output_type": "stream",
          "name": "stderr",
          "text": [
            "[07:25:56] Explicit valence for atom # 2 N, 4, is greater than permitted\n"
          ]
        }
      ]
    },
    {
      "cell_type": "markdown",
      "source": [
        "And this is not only in reading structures.\n",
        "It can be performed outside reading molecules.\n",
        "But basically they are usually performed in the beginning of creating a molecule or reading molecule. And again the idea of sanitization is that to check the molecule for chemical correctness."
      ],
      "metadata": {
        "id": "M3mGACeZQI53"
      }
    },
    {
      "cell_type": "code",
      "source": [
        "img_mol=s_mols[0] #first valid molecule\n",
        "Draw.MolToImage(img_mol)"
      ],
      "metadata": {
        "colab": {
          "base_uri": "https://localhost:8080/",
          "height": 317
        },
        "id": "Q1tF6qYHO3m9",
        "outputId": "8dbff58a-fed6-4526-d7b2-c4eecf8c987c"
      },
      "execution_count": 81,
      "outputs": [
        {
          "output_type": "execute_result",
          "data": {
            "text/plain": [
              "<PIL.PngImagePlugin.PngImageFile image mode=RGB size=300x300>"
            ],
            "image/png": "[encoded data removed]",
            "image/jpeg": "[encoded data removed]"
          },
          "metadata": {},
          "execution_count": 81
        }
      ]
    },
    {
      "cell_type": "markdown",
      "source": [
        "###Read CSV\n"
      ],
      "metadata": {
        "id": "8dp-Ly1oUNPU"
      }
    },
    {
      "cell_type": "code",
      "source": [
        "#Parsing CSV with pandas\n",
        "if os.path.exists(path_csv):\n",
        "    df = pd.read_csv(path_csv)\n",
        "    print(\"CSV columns:\", df.columns)\n",
        "\n",
        "    # Replace 'SMILES' with actual column name if different\n",
        "    smiles_col = 'SMILES' if 'SMILES' in df.columns else df.columns[0]\n",
        "\n",
        "    valid_mols = []\n",
        "    invalid_smiles = []\n",
        "\n",
        "    for smi in df[smiles_col]:\n",
        "        mol = Chem.MolFromSmiles(smi, sanitize=False)\n",
        "        mol = sanitize_mol(mol)\n",
        "        if mol:\n",
        "            valid_mols.append(mol)\n",
        "        else:\n",
        "            invalid_smiles.append(smi)\n",
        "\n",
        "    print(f\"CSV: Loaded {len(valid_mols)} valid molecules\")\n",
        "    print(f\"Invalid SMILES ({len(invalid_smiles)}): {invalid_smiles}\")\n",
        "else:\n",
        "    print(f\"CSV file not found: {path_csv}\")"
      ],
      "metadata": {
        "colab": {
          "base_uri": "https://localhost:8080/"
        },
        "id": "v1LkgrnzgCrC",
        "outputId": "8b1feb94-2860-4d1f-95eb-7995219f8193"
      },
      "execution_count": 30,
      "outputs": [
        {
          "output_type": "stream",
          "name": "stdout",
          "text": [
            "Index(['SMILES', 'Name', 'Activity', 'Unnamed: 3'], dtype='object')\n",
            "Loaded 4 valid molecules\n",
            "Valid SMILES[<rdkit.Chem.rdchem.Mol object at 0x7c695db2adc0>, <rdkit.Chem.rdchem.Mol object at 0x7c695a5c1a80>, <rdkit.Chem.rdchem.Mol object at 0x7c695a3a8ac0>, <rdkit.Chem.rdchem.Mol object at 0x7c695a3a8d60>]\n",
            "\n",
            "Invalid SMILES (1): ['CN(C)(C)CO']\n"
          ]
        },
        {
          "output_type": "stream",
          "name": "stderr",
          "text": [
            "[06:54:06] Explicit valence for atom # 1 N, 4, is greater than permitted\n"
          ]
        }
      ]
    },
    {
      "cell_type": "markdown",
      "source": [
        "###Read SMILES\n",
        "\n",
        "SMILES (Simplified Molecular Input Line Entry System) is a string notation for representing molecules, where atoms and bonds are encoded as characters.\n",
        "Encodes the connectivity (2D graph) of the molecule — which atoms are connected and how.\n"
      ],
      "metadata": {
        "id": "EvK6mWkZTFkQ"
      }
    },
    {
      "cell_type": "code",
      "source": [
        "if os.path.exists(path_smi):\n",
        "    # Using SmilesMolSupplier\n",
        "    smi_mols = Chem.SmilesMolSupplier(path_smi, sanitize=False)\n",
        "    valid_mols = []\n",
        "    invalid_smiles = []\n",
        "\n",
        "    for mol in smi_mols:\n",
        "        if mol is not None:\n",
        "            try:\n",
        "                Chem.SanitizeMol(mol)  # try sanitization\n",
        "                valid_mols.append(mol)\n",
        "            except Exception:\n",
        "                invalid_smiles.append(mol)  # could also log SMILES separately\n",
        "        else:\n",
        "            invalid_smiles.append(None)\n",
        "\n",
        "    print(f\"SmilesMolSupplier: {len(valid_mols)} valid molecules\")\n",
        "    print(f\"Skipped {len(invalid_smiles)} invalid molecules\")\n",
        "\n",
        "    print([v_mol for v_mol in valid_mols])\n",
        "    Draw.MolToImage(valid_mols[0])  # preview first molecule\n",
        "\n",
        "    #Read raw lines for reference\n",
        "    with open(path_smi, 'r') as f:\n",
        "        smiles_lines = [line.strip() for line in f if line.strip()]\n",
        "    print(\"Raw SMILES lines:\", smiles_lines)\n",
        "\n",
        "else:\n",
        "    print(f\"SMI file not found: {path_smi}\")"
      ],
      "metadata": {
        "id": "OIyNSZ4OS6Nf",
        "colab": {
          "base_uri": "https://localhost:8080/"
        },
        "outputId": "57857119-bb93-4569-9030-284ec5513e42"
      },
      "execution_count": 92,
      "outputs": [
        {
          "output_type": "stream",
          "name": "stdout",
          "text": [
            "SmilesMolSupplier: 4 valid molecules\n",
            "Skipped 1 invalid molecules\n",
            "[<rdkit.Chem.rdchem.Mol object at 0x7c695a3a8ac0>, <rdkit.Chem.rdchem.Mol object at 0x7c695a26f0d0>, <rdkit.Chem.rdchem.Mol object at 0x7c695db2adc0>, <rdkit.Chem.rdchem.Mol object at 0x7c695a1b27a0>]\n",
            "Raw SMILES lines: ['SMILES Name', 'OCNC1=CC=CC(O)=C1 Molecule_1', 'NCCC1CC1 Molecule_2', 'CN(C)(C)CO Molecule_3', 'CCN1CCCCC1 Molecule_4', 'C1=CC=C(CCC2CN2)C=C1 Molecule_5']\n"
          ]
        },
        {
          "output_type": "stream",
          "name": "stderr",
          "text": [
            "[07:33:08] Explicit valence for atom # 1 N, 4, is greater than permitted\n"
          ]
        }
      ]
    },
    {
      "cell_type": "markdown",
      "source": [
        "###Writing to SDF file\n"
      ],
      "metadata": {
        "id": "9s60Yx_jOGzA"
      }
    },
    {
      "cell_type": "code",
      "source": [
        "if os.path.exists(path):\n",
        "    # Load molecules\n",
        "    mols = Chem.SDMolSupplier(path)\n",
        "    mols = [mol for mol in mols if mol]  # keep only valid molecules\n",
        "    print(f\"Number of valid molecules: {len(mols)}\")\n",
        "\n",
        "    # Write to new SDF\n",
        "    output_path = 'new_sdf.sdf'\n",
        "    sdf_writer = Chem.SDWriter(output_path)\n",
        "    for mol in mols:\n",
        "        sdf_writer.write(mol)\n",
        "    sdf_writer.close()\n",
        "    print(f\"Saved {len(mols)} molecules to {output_path}\")\n",
        "\n",
        "else:\n",
        "    print(f\"SDF file not found: {path}\")\n"
      ],
      "metadata": {
        "id": "lqzpXpPcY9r-",
        "colab": {
          "base_uri": "https://localhost:8080/"
        },
        "outputId": "736ddc2b-bc83-4808-c9a2-f97dc5b47517"
      },
      "execution_count": 97,
      "outputs": [
        {
          "output_type": "stream",
          "name": "stdout",
          "text": [
            "Number of valid molecules: 4\n",
            "Saved 4 molecules to new_sdf.sdf\n"
          ]
        },
        {
          "output_type": "stream",
          "name": "stderr",
          "text": [
            "[07:36:04] Explicit valence for atom # 2 N, 4, is greater than permitted\n",
            "[07:36:04] ERROR: Could not sanitize molecule ending on line 60\n",
            "[07:36:04] ERROR: Explicit valence for atom # 2 N, 4, is greater than permitted\n"
          ]
        }
      ]
    }
  ]
}