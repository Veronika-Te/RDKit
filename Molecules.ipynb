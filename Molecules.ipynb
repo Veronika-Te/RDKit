{
  "nbformat": 4,
  "nbformat_minor": 0,
  "metadata": {
    "colab": {
      "provenance": []
    },
    "kernelspec": {
      "name": "python3",
      "display_name": "Python 3"
    },
    "language_info": {
      "name": "python"
    }
  },
  "cells": [
    {
      "cell_type": "code",
      "execution_count": null,
      "metadata": {
        "id": "aYpqPWKoQmlo"
      },
      "outputs": [],
      "source": [
        "!pip install rdkit"
      ]
    },
    {
      "cell_type": "markdown",
      "source": [
        "###Create a single molecule from a Smiles string."
      ],
      "metadata": {
        "id": "fpALALwnRchd"
      }
    },
    {
      "cell_type": "code",
      "source": [
        "from rdkit import Chem\n",
        "from rdkit.Chem import Draw\n",
        "\n",
        "#an object with own methods\n",
        "mol=Chem.MolFromSmiles('CCCNO')\n",
        "print(mol)\n",
        "Draw.MolToImage(mol)"
      ],
      "metadata": {
        "colab": {
          "base_uri": "https://localhost:8080/",
          "height": 354
        },
        "id": "e00CrfbaRf2P",
        "outputId": "1fbbab13-1277-42ff-ed36-81dd37917831"
      },
      "execution_count": null,
      "outputs": [
        {
          "output_type": "stream",
          "name": "stdout",
          "text": [
            "<rdkit.Chem.rdchem.Mol object at 0x7a540a772420>\n"
          ]
        },
        {
          "output_type": "execute_result",
          "data": {
            "text/plain": [
              "<PIL.PngImagePlugin.PngImageFile image mode=RGB size=300x300>"
            ],
            "image/png": "[encoded data removed]",
            "image/jpeg": "[encoded data removed]"
          },
          "metadata": {},
          "execution_count": 6
        }
      ]
    },
    {
      "cell_type": "code",
      "source": [
        "#molecule methods\n",
        "num_atoms=mol.GetNumAtoms()\n",
        "print(num_atoms)\n",
        "num_bonds=mol.GetNumBonds()\n",
        "print(num_bonds)"
      ],
      "metadata": {
        "colab": {
          "base_uri": "https://localhost:8080/"
        },
        "id": "6L7-ckPTRwfU",
        "outputId": "4f8eb453-50b7-4c48-f985-eccb04deb072"
      },
      "execution_count": null,
      "outputs": [
        {
          "output_type": "stream",
          "name": "stdout",
          "text": [
            "5\n",
            "4\n"
          ]
        }
      ]
    },
    {
      "cell_type": "markdown",
      "source": [
        "if you want to loop atoms first we get the atoms objects in a list or a sequence as we will see."
      ],
      "metadata": {
        "id": "NTzGKW1LUK8r"
      }
    },
    {
      "cell_type": "code",
      "source": [
        "#Looping Bonds\n",
        "bonds=mol.GetBonds()\n",
        "for bond in bonds:\n",
        "  print(bond)"
      ],
      "metadata": {
        "colab": {
          "base_uri": "https://localhost:8080/"
        },
        "id": "173A2CmFUNEF",
        "outputId": "5c0d4fab-b1ac-41b0-b166-9d1ce18d6071"
      },
      "execution_count": null,
      "outputs": [
        {
          "output_type": "stream",
          "name": "stdout",
          "text": [
            "<rdkit.Chem.rdchem.Bond object at 0x7a53f9d826c0>\n",
            "<rdkit.Chem.rdchem.Bond object at 0x7a53e4e0f220>\n",
            "<rdkit.Chem.rdchem.Bond object at 0x7a5408fd7760>\n",
            "<rdkit.Chem.rdchem.Bond object at 0x7a53f9d826c0>\n"
          ]
        }
      ]
    },
    {
      "cell_type": "code",
      "source": [
        "#Custom properties\n",
        "mol.SetProp('Solubility', 'Highly Soluble')\n",
        "mol.GetProp('Solubility')"
      ],
      "metadata": {
        "colab": {
          "base_uri": "https://localhost:8080/",
          "height": 56
        },
        "id": "wQYJxwQ4VMys",
        "outputId": "58b75ca1-528b-4494-c9e3-38a07e74f813"
      },
      "execution_count": null,
      "outputs": [
        {
          "output_type": "execute_result",
          "data": {
            "text/plain": [
              "'Highly Soluble'"
            ],
            "application/vnd.google.colaboratory.intrinsic+json": {
              "type": "string"
            }
          },
          "metadata": {},
          "execution_count": 14
        }
      ]
    },
    {
      "cell_type": "code",
      "source": [
        "#Integers\n",
        "mol.SetIntProp('Int Prop',4)\n",
        "print(mol.GetIntProp('Int Prop'))"
      ],
      "metadata": {
        "colab": {
          "base_uri": "https://localhost:8080/"
        },
        "id": "YXWn3jxcVlSK",
        "outputId": "d8a91aec-b234-41cd-e6cd-66ad54790456"
      },
      "execution_count": null,
      "outputs": [
        {
          "output_type": "stream",
          "name": "stdout",
          "text": [
            "4\n"
          ]
        }
      ]
    },
    {
      "cell_type": "code",
      "source": [
        "#Floats\n",
        "#Double=Decimal number\n",
        "mol.SetDoubleProp('Float Prop',19.1)\n",
        "mol.GetDoubleProp('Float Prop')"
      ],
      "metadata": {
        "colab": {
          "base_uri": "https://localhost:8080/"
        },
        "id": "gUiPA-MJVuqs",
        "outputId": "02091e5f-d91c-4f24-c76e-9ac584a2c3f8"
      },
      "execution_count": null,
      "outputs": [
        {
          "output_type": "execute_result",
          "data": {
            "text/plain": [
              "19.1"
            ]
          },
          "metadata": {},
          "execution_count": 17
        }
      ]
    },
    {
      "cell_type": "code",
      "source": [
        "#Checking\n",
        "sol=mol.HasProp('Solubility')\n",
        "print(sol) #1-True, 0-False"
      ],
      "metadata": {
        "colab": {
          "base_uri": "https://localhost:8080/"
        },
        "id": "HJHARggPV_yA",
        "outputId": "3b78963f-3517-43a3-d958-b156f8fc28e9"
      },
      "execution_count": null,
      "outputs": [
        {
          "output_type": "stream",
          "name": "stdout",
          "text": [
            "1\n"
          ]
        }
      ]
    }
  ]
}