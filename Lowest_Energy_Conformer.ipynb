{
  "nbformat": 4,
  "nbformat_minor": 0,
  "metadata": {
    "colab": {
      "provenance": []
    },
    "kernelspec": {
      "name": "python3",
      "display_name": "Python 3"
    },
    "language_info": {
      "name": "python"
    }
  },
  "cells": [
    {
      "cell_type": "code",
      "execution_count": null,
      "metadata": {
        "id": "UuGSZ5XisvKa"
      },
      "outputs": [],
      "source": [
        "!pip install rdkit"
      ]
    },
    {
      "cell_type": "code",
      "source": [
        "from rdkit import Chem\n",
        "from rdkit.Chem import AllChem\n",
        "from rdkit.Chem import Draw"
      ],
      "metadata": {
        "id": "oIvH-E7CuG6-"
      },
      "execution_count": 23,
      "outputs": []
    },
    {
      "cell_type": "code",
      "source": [
        "#Load the dataset\n",
        "mols=Chem.SmilesMolSupplier('confs_dataset.smi')\n",
        "mols=[mol for mol in mols if mol]\n",
        "print(len(mols))"
      ],
      "metadata": {
        "colab": {
          "base_uri": "https://localhost:8080/"
        },
        "id": "Vv62GpecuDPx",
        "outputId": "2a1871ba-830c-448f-f97f-3d91afec6ffa"
      },
      "execution_count": 5,
      "outputs": [
        {
          "output_type": "stream",
          "name": "stdout",
          "text": [
            "10\n"
          ]
        }
      ]
    },
    {
      "cell_type": "code",
      "source": [
        "best_conf_ids=[]\n",
        "n_confs=10 #10 conformers for each molecule\n",
        "for mol in mols:\n",
        "  mol=Chem.AddHs(mol)\n",
        "  AllChem.EmbedMultipleConfs(mol,n_confs, randomSeed=19)\n",
        "  best_energy = float('inf') #default value\n",
        "  best_conf_id = -1 #default value\n",
        "\n",
        "  #Whole molecule\n",
        "  props=AllChem.MMFFGetMoleculeProperties(mol)\n",
        "  for conf in mol.GetConformers():\n",
        "    conf_id=conf.GetId()\n",
        "    # MMFF (Merck Molecular Force Field) to find more stable conformation\n",
        "    # Creates a force field for a specific conformer - (passing conformer ID)\n",
        "    ff=AllChem.MMFFGetMoleculeForceField(mol,props, confId=conf_id)\n",
        "\n",
        "    #Calculates the potential energy of the conformer.\n",
        "    energy=ff.CalcEnergy()\n",
        "    #print(energy)\n",
        "    if energy<best_energy:\n",
        "      best_energy=energy\n",
        "      best_conf_id=conf_id\n",
        "  best_conf_ids.append(best_conf_id)\n"
      ],
      "metadata": {
        "id": "XGtGtgdxuVT1"
      },
      "execution_count": null,
      "outputs": []
    },
    {
      "cell_type": "code",
      "source": [
        "print(f\"Best Conf IDs: {best_conf_ids}\")"
      ],
      "metadata": {
        "colab": {
          "base_uri": "https://localhost:8080/"
        },
        "id": "uwiiAcQ48mkU",
        "outputId": "c6c57efb-1e4b-4978-bfd4-ec286304e4c7"
      },
      "execution_count": 17,
      "outputs": [
        {
          "output_type": "stream",
          "name": "stdout",
          "text": [
            "[6, 5, 8, 6, 7, 3, 1, 4, 5, 6]\n"
          ]
        }
      ]
    },
    {
      "cell_type": "markdown",
      "source": [
        "###Writing the result"
      ],
      "metadata": {
        "id": "0zJw2y8hBIrE"
      }
    },
    {
      "cell_type": "code",
      "source": [
        "sd_writer = Chem.SDWriter('lowest enegry.sdf')\n",
        "for mol, best_conf_id in zip(mols, best_conf_ids):\n",
        "  sd_writer.write(mol, confId=best_conf_id)\n",
        "sd_writer.flush()"
      ],
      "metadata": {
        "id": "LDSf7Eywz6Wl"
      },
      "execution_count": 19,
      "outputs": []
    },
    {
      "cell_type": "markdown",
      "source": [
        "###Reading the result"
      ],
      "metadata": {
        "id": "EKMVPKop9Wmh"
      }
    },
    {
      "cell_type": "code",
      "source": [
        "s_mols = [mol for mol in Chem.SDMolSupplier('lowest enegry.sdf', sanitize=False)]\n",
        "s_mols = [mol for mol in s_mols if mol is not None]  # keep only valid\n",
        "print(f\"SDF: Loaded: {len(s_mols)}\")\n",
        "mol = s_mols[0]\n",
        "Draw.MolToImage(mol)\n"
      ],
      "metadata": {
        "colab": {
          "base_uri": "https://localhost:8080/",
          "height": 334
        },
        "id": "6Qo9U1Ob9V8X",
        "outputId": "f5a4a9de-07ee-46b9-9d79-52a932e05849"
      },
      "execution_count": 29,
      "outputs": [
        {
          "output_type": "stream",
          "name": "stdout",
          "text": [
            "SDF: Loaded: 1\n"
          ]
        },
        {
          "output_type": "execute_result",
          "data": {
            "text/plain": [
              "<PIL.PngImagePlugin.PngImageFile image mode=RGB size=300x300>"
            ],
            "image/png": "[encoded data removed]",
            "image/jpeg": "[encoded data removed]"
          },
          "metadata": {},
          "execution_count": 29
        }
      ]
    }
  ]
}